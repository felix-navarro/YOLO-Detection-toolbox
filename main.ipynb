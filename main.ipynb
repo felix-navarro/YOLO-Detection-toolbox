{
 "cells": [
  {
   "cell_type": "code",
   "id": "initial_id",
   "metadata": {
    "collapsed": true,
    "ExecuteTime": {
     "end_time": "2025-02-20T13:07:01.584141Z",
     "start_time": "2025-02-20T13:06:34.627848Z"
    }
   },
   "source": [
    "\n",
    "from object_detection import csv2yolo\n",
    "from object_detection import classes_BIIGLE\n",
    "\n",
    "import wandb"
   ],
   "outputs": [],
   "execution_count": 1
  },
  {
   "metadata": {},
   "cell_type": "markdown",
   "source": "# Convert Biigle csv annotation dataset to a yolov5 training dataset",
   "id": "31aa536837d59616"
  },
  {
   "metadata": {},
   "cell_type": "markdown",
   "source": "In this section we will convert the Biigle csv annotation dataset into a yolo25 dataset usable in yolo models for object detections",
   "id": "e2c83dffbc49b4b1"
  },
  {
   "metadata": {
    "ExecuteTime": {
     "end_time": "2025-02-19T14:31:57.039982Z",
     "start_time": "2025-02-19T14:31:57.031877Z"
    }
   },
   "cell_type": "code",
   "source": [
    "# Get import image directory path\n",
    "image_dir = \"D:/KANADEEP/01_Donnee/02_Image/PL01/Annotations/Annotated_Images\"\n",
    "\n",
    "# Get import BIIGLE csv annotation report file path\n",
    "report_file = \"U:/10_THESE/Felix Navarro/01_Donnee/01_Plongee/PL01/04_Annotations/91-pl01.csv\"\n",
    "\n",
    "# Get export directory for Yolov5 format dataset\n",
    "export_dir = \"D:/KANADEEP/01_Donnee/02_Image/PL01/Annotations/Yolo_Format\"\n",
    "\n",
    "# Get name for project\n",
    "name = \"pl01\""
   ],
   "id": "1057c4e9b653531b",
   "outputs": [],
   "execution_count": 11
  },
  {
   "metadata": {},
   "cell_type": "code",
   "outputs": [],
   "execution_count": null,
   "source": [
    "# Get annotations classes from BIIGLE csv annotation report file\n",
    "classes = classes_BIIGLE(report_file = report_file)\n"
   ],
   "id": "be3ed7dfcc20f6d4"
  },
  {
   "metadata": {},
   "cell_type": "code",
   "outputs": [],
   "execution_count": null,
   "source": [
    "# Export BIIGLE csv annotations dataset as Yolov5 dataset\n",
    "csv2yolo(image_dir = image_dir, report_file = report_file, classes = classes, export_dir = export_dir, name = name)"
   ],
   "id": "5b8d10f12a41d4cb"
  },
  {
   "metadata": {},
   "cell_type": "markdown",
   "source": "# Train Yolov11 model",
   "id": "2b4e8a76486590c1"
  },
  {
   "metadata": {},
   "cell_type": "code",
   "outputs": [],
   "execution_count": null,
   "source": [
    "# Get project name\n",
    "project_name = \"KANADEEP\"\n",
    "\n",
    "# Import Yolov5 dataset direction (same as previous export dir\n",
    "# dataset_dir = export_dir\n",
    "training_dataset_dir = \"D:/KANADEEP/01_Donnee/02_Image/PL01/Annotations/Yolo_Format/dataset.yaml\"\n",
    "\n",
    "# Import Yolov11 model path\n",
    "untrained_model_path = \"C:/Users/fnavarro/'ownCloud - Felix.Navarro@ifremer.fr@cloud.ifremer.fr'/Script/classification_YOLO/model/yolo11l.pt\"\n",
    "\n",
    "# Get\n",
    "save_dir = \"D:/KANADEEP/01_Donnee/02_Image/PL01/Annotations/Yolo_Training\""
   ],
   "id": "f485c59b61c67217"
  },
  {
   "metadata": {},
   "cell_type": "code",
   "outputs": [],
   "execution_count": null,
   "source": [
    "# Import Yolov5 dataset in fiftyone for a detection model\n",
    "# dataset = fou.import_yolov5_format(dataset_dir = dataset_dir, label_field = \"detections\", splits = None)"
   ],
   "id": "996000654bcb1cd9"
  },
  {
   "metadata": {},
   "cell_type": "code",
   "outputs": [],
   "execution_count": null,
   "source": [
    "# Initialized wandb session\n",
    "wandb.init(project = project_name, name = name)\n",
    "\n",
    "\n",
    "# Import untrained model path\n",
    "model = YOLO(untrained_model_path)"
   ],
   "id": "e0d215c5176c1865"
  }
 ],
 "metadata": {
  "kernelspec": {
   "display_name": "Python 3",
   "language": "python",
   "name": "python3"
  },
  "language_info": {
   "codemirror_mode": {
    "name": "ipython",
    "version": 2
   },
   "file_extension": ".py",
   "mimetype": "text/x-python",
   "name": "python",
   "nbconvert_exporter": "python",
   "pygments_lexer": "ipython2",
   "version": "2.7.6"
  }
 },
 "nbformat": 4,
 "nbformat_minor": 5
}
